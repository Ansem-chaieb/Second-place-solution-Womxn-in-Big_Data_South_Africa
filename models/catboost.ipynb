{
 "cells": [
  {
   "cell_type": "code",
   "execution_count": null,
   "metadata": {},
   "outputs": [],
   "source": [
    "import sys\n",
    "\n",
    "sys.path.append(\"../\")\n",
    "from helper.utils import *\n",
    "\n",
    "from helper.catboost import *\n",
    "from config import *\n"
   ]
  },
  {
   "cell_type": "code",
   "execution_count": null,
   "metadata": {},
   "outputs": [],
   "source": [
    "is_debug = False\n",
    "nrows = 1000"
   ]
  },
  {
   "cell_type": "code",
   "execution_count": null,
   "metadata": {},
   "outputs": [],
   "source": [
    "version = \"0\""
   ]
  },
  {
   "cell_type": "code",
   "execution_count": null,
   "metadata": {},
   "outputs": [],
   "source": [
    "if is_debug:\n",
    "    train = pd.read_csv(\n",
    "        join(proc_data_path, \"train_{}.csv\".format(version)), nrows=nrows\n",
    "    )\n",
    "    test = pd.read_csv(\n",
    "        join(proc_data_path, \"test_{}.csv\".format(version)), nrows=nrows / 2\n",
    "    )\n",
    "else:\n",
    "    train = pd.read_csv(join(proc_data_path, \"train_{}.csv\".format(version)))\n",
    "    test = pd.read_csv(join(proc_data_path, \"test_{}.csv\".format(version)))"
   ]
  },
  {
   "cell_type": "code",
   "execution_count": null,
   "metadata": {},
   "outputs": [],
   "source": [
    "train.columns"
   ]
  },
  {
   "cell_type": "code",
   "execution_count": null,
   "metadata": {},
   "outputs": [],
   "source": [
    "target_name = \"target\"\n",
    "Id_name = \"ward\"\n",
    "prediction_names = [\"{}_prediction\".format(target_name)]\n",
    "\n",
    "features_to_remove = [\n",
    "    target_name,\n",
    "    Id_name,\n",
    "    \"train\",\n",
    "    \"validation\",\n",
    "    \"fold\",\n",
    "    #     \"area_4\",\n",
    "    \"area_3\",\n",
    "    \"area_2\",\n",
    "    \"area_1\",\n",
    "    \"distance_to_ADM1\",\n",
    "    \"distance_to_ADM2\",\n",
    "    \"distance_to_ADM3\",\n",
    "] + prediction_names\n",
    "features = [\n",
    "    feature for feature in train.columns.tolist() if feature not in features_to_remove\n",
    "]\n",
    "data_characterization(train[features])"
   ]
  },
  {
   "cell_type": "code",
   "execution_count": null,
   "metadata": {},
   "outputs": [],
   "source": [
    "print(features)"
   ]
  },
  {
   "cell_type": "code",
   "execution_count": null,
   "metadata": {},
   "outputs": [],
   "source": [
    "from sklearn.metrics import mean_squared_error\n",
    "\n",
    "\n",
    "def metric(x, y):\n",
    "    return np.sqrt(mean_squared_error(x, y))"
   ]
  },
  {
   "cell_type": "markdown",
   "metadata": {},
   "source": [
    "[catboost params documentation](https://catboost.ai/docs/concepts/python-reference_parameters-list.html)"
   ]
  },
  {
   "cell_type": "code",
   "execution_count": null,
   "metadata": {},
   "outputs": [],
   "source": [
    "params = {\n",
    "    \"loss_function\": \"RMSE\",\n",
    "    \"eval_metric\": \"RMSE\",\n",
    "    \"learning_rate\": 0.05,\n",
    "    \"random_seed\": 1994,\n",
    "    \"l2_leaf_reg\": 3,\n",
    "    \"bagging_temperature\": 1,  # 0 inf\n",
    "\n",
    "    \"depth\": 4,\n",
    "    #         \"min_data_in_leaf\":1,\n",
    "    #         \"max_leaves\":31,\n",
    "    #     \"subsample\": 0.8,\n",
    "    #         \"sampling_frequency\":\"PerTreeLevel\", # PerTree\n",
    "    \"od_type\": \"Iter\",\n",
    "    \"od_wait\": 50,\n",
    "    \"thread_count\": 16,\n",
    "    \"iterations\": 50000,\n",
    "    \"verbose_eval\": False,\n",
    "    \"use_best_model\": True,\n",
    "}"
   ]
  },
  {
   "cell_type": "code",
   "execution_count": null,
   "metadata": {},
   "outputs": [],
   "source": [
    "cat_features = []\n",
    "cat_features = [\n",
    "    train[features].columns.get_loc(c) for c in cat_features if c in train[features]\n",
    "]"
   ]
  },
  {
   "cell_type": "code",
   "execution_count": null,
   "metadata": {},
   "outputs": [],
   "source": [
    "other_params = {\n",
    "    \"prediction_type\": \"RawFormulaVal\",  # it could be RawFormulaVal ,Class,Probability\n",
    "    \"cat_features\": cat_features,\n",
    "    \"print_result\": False,  # print result for a single model should be False whene use_kfold==True\n",
    "    \"plot_importance\": False,  # plot importance for single model should be false whene use_kfold==True\n",
    "    \"predict_train\": False,  # predict train for the single model funcation False only whene  use_kfold==True\n",
    "    \"num_class\": 1,\n",
    "    \"target_name\": target_name,\n",
    "    \"features\": features,\n",
    "    \"metric\": metric,\n",
    "    \"params\": params,\n",
    "    \"use_kfold\": True,  # condtion to use kfold or single model\n",
    "    \"plot_importance_kfold\": False,  # plot importance after K fold train\n",
    "    \"print_kfold_eval\": False,  # print evalation in kfold mode\n",
    "    \"weight\": None,\n",
    "    \"print_time\": False,\n",
    "}"
   ]
  },
  {
   "cell_type": "code",
   "execution_count": null,
   "metadata": {},
   "outputs": [],
   "source": [
    "from tqdm import tqdm"
   ]
  },
  {
   "cell_type": "code",
   "execution_count": null,
   "metadata": {},
   "outputs": [],
   "source": [
    "oof_validations = []\n",
    "oof_tests = []\n",
    "for seed in tqdm(\n",
    "    [\n",
    "        1994,\n",
    "        2021,\n",
    "        2040,\n",
    "        45678,\n",
    "        45210,\n",
    "        48796,\n",
    "        521426,\n",
    "        74582,\n",
    "        457895,\n",
    "        458763,\n",
    "        52478,\n",
    "        78524,\n",
    "        32105,\n",
    "    ]\n",
    "):\n",
    "\n",
    "\n",
    "    other_params[\"params\"][\"random_seed\"] = seed\n",
    "    if other_params[\"use_kfold\"]:\n",
    "        oof_train, oof_test, final_train_score, oof_score, models = cat_train(\n",
    "            train, test, other_params\n",
    "        )\n",
    "        validation = fill_predictions_df(train, oof_train, prediction_names)\n",
    "\n",
    "    else:\n",
    "        train_pred, val_pred, test_pred, train_score, val_score, model = cat_train(\n",
    "            train, test, other_params\n",
    "        )\n",
    "        validation = fill_predictions_df(\n",
    "            train[train.validation == 1], val_pred, prediction_names\n",
    "        )\n",
    "    oof_validations.append(oof_train)\n",
    "    oof_tests.append(oof_test)"
   ]
  },
  {
   "cell_type": "code",
   "execution_count": null,
   "metadata": {},
   "outputs": [],
   "source": [
    "validation = fill_predictions_df(\n",
    "    train, np.mean(oof_validations, axis=0), prediction_names\n",
    ")\n",
    "oof_test = np.mean(oof_tests, axis=0)\n"
   ]
  },
  {
   "cell_type": "code",
   "execution_count": null,
   "metadata": {},
   "outputs": [],
   "source": [
    "score = metric(validation[target_name], validation[prediction_names].values)\n",
    "print(score)\n",
    "print(\"Train\")\n",
    "print(\"train mean \", train[target_name].mean(), \"train std \", train[target_name].std())\n",
    "print(\n",
    "    \"oof mean \",\n",
    "    np.mean(validation[prediction_names].values),\n",
    "    \"oof sutd \",\n",
    "    np.std(validation[prediction_names].values),\n",
    ")"
   ]
  },
  {
   "cell_type": "code",
   "execution_count": null,
   "metadata": {},
   "outputs": [],
   "source": [
    "sub_name = \"cat_{}_{}\".format(round(score, 3), str(\"Kfold\"))\n",
    "make_sub_one_class(test, oof_test, Id_name, target_name, join(sub_path, sub_name))"
   ]
  },
  {
   "cell_type": "code",
   "execution_count": null,
   "metadata": {},
   "outputs": [],
   "source": [
    "sns.kdeplot(validation[prediction_names].values.reshape((-1)))\n",
    "sns.kdeplot(validation[target_name].values.reshape((-1)))\n",
    "sns.kdeplot(test[\"oof_test\"])"
   ]
  }
 ],
 "metadata": {
  "kernelspec": {
   "display_name": "Python 3",
   "language": "python",
   "name": "python3"
  },
  "language_info": {
   "codemirror_mode": {
    "name": "ipython",
    "version": 3
   },
   "file_extension": ".py",
   "mimetype": "text/x-python",
   "name": "python",
   "nbconvert_exporter": "python",
   "pygments_lexer": "ipython3",
   "version": "3.6.8"
  }
 },
 "nbformat": 4,
 "nbformat_minor": 4
}
