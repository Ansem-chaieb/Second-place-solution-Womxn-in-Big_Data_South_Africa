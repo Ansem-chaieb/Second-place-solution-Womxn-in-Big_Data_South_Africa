{
 "cells": [
  {
   "cell_type": "code",
   "execution_count": null,
   "metadata": {},
   "outputs": [],
   "source": [
    "import sys\n",
    "\n",
    "sys.path.append(\"../\")\n",
    "from helper.utils import *\n",
    "from helper.cross_validation import *\n",
    "from config import *\n",
    "from helper.categorical_features import * \n",
    "from sklearn.cluster import KMeans\n",
    "import geopandas as gpd\n",
    "# %load_ext lab_black\n",
    "from geopy.distance import distance\n",
    "from scipy.spatial.distance import cdist\n",
    "distance_m=lambda x,y : distance(x,y).m"
   ]
  },
  {
   "cell_type": "code",
   "execution_count": null,
   "metadata": {},
   "outputs": [],
   "source": [
    "ward_ALL=gpd.read_file(join(raw_data_path,\"zaf_adm_2016SADB_OCHA_SHP\",\"zaf_admbndl_ALL_2016SADB_OCHA.shp\"))\n",
    "ward_ALL.head()"
   ]
  },
  {
   "cell_type": "code",
   "execution_count": null,
   "metadata": {},
   "outputs": [],
   "source": [
    "ward_1=gpd.read_file(join(raw_data_path,\"zaf_adm_2016SADB_OCHA_SHP\",\"zaf_admbnda_adm1_2016SADB_OCHA.shp\"))\n",
    "ward_1.head()"
   ]
  },
  {
   "cell_type": "code",
   "execution_count": null,
   "metadata": {},
   "outputs": [],
   "source": [
    "ward_2=gpd.read_file(join(raw_data_path,\"zaf_adm_2016SADB_OCHA_SHP\",\"zaf_admbnda_adm2_2016SADB_OCHA.shp\"))\n",
    "ward_2.head()"
   ]
  },
  {
   "cell_type": "code",
   "execution_count": null,
   "metadata": {},
   "outputs": [],
   "source": [
    "ward_3=gpd.read_file(join(raw_data_path,\"zaf_adm_2016SADB_OCHA_SHP\",\"zaf_admbnda_adm3_2016SADB_OCHA.shp\"))\n",
    "ward_3.head()"
   ]
  },
  {
   "cell_type": "code",
   "execution_count": null,
   "metadata": {},
   "outputs": [],
   "source": [
    "ward_4=gpd.read_file(join(raw_data_path,\"zaf_adm_2016SADB_OCHA_SHP\",\"zaf_admbnda_adm4_2016SADB_OCHA.shp\"))\n",
    "ward_4.head()"
   ]
  },
  {
   "cell_type": "code",
   "execution_count": null,
   "metadata": {},
   "outputs": [],
   "source": [
    "from pyproj import Proj\n",
    "pa = Proj(\"+proj=aea +lat_1=37.0 +lat_2=41.0 +lat_0=39.0 +lon_0=-106.55\")\n",
    "ward_4.crs=pa"
   ]
  },
  {
   "cell_type": "code",
   "execution_count": null,
   "metadata": {},
   "outputs": [],
   "source": [
    "ward_4.head()"
   ]
  },
  {
   "cell_type": "code",
   "execution_count": null,
   "metadata": {},
   "outputs": [],
   "source": [
    "ward_4[\"area_4\"]=ward_4.geometry.area\n",
    "ward_3[\"area_3\"]=ward_3.geometry.area\n",
    "ward_2[\"area_2\"]=ward_2.geometry.area\n",
    "ward_1[\"area_1\"]=ward_1.geometry.area"
   ]
  },
  {
   "cell_type": "code",
   "execution_count": null,
   "metadata": {},
   "outputs": [],
   "source": [
    "# clsutering ADM code  with feature slike the NL ,  housleholders ...."
   ]
  },
  {
   "cell_type": "code",
   "execution_count": null,
   "metadata": {},
   "outputs": [],
   "source": [
    "ward_area=ward_4[[\"ADM4_PCODE\",\"area_4\",\"ADM3_PCODE\"]]\n",
    "ward_area=ward_area.merge(ward_3[[\"ADM3_PCODE\",\"ADM2_PCODE\",\"area_3\"]],how=\"left\",on=[\"ADM3_PCODE\"])\n",
    "ward_area=ward_area.merge(ward_2[[\"ADM2_PCODE\",\"ADM1_PCODE\",\"area_2\"]],how=\"left\",on=[\"ADM2_PCODE\"])\n",
    "ward_area=ward_area.merge(ward_1[[\"ADM1_PCODE\",\"area_1\"]],how=\"left\",on=[\"ADM1_PCODE\"])\n",
    "ward_area.drop([\"ADM1_PCODE\",\"ADM2_PCODE\",\"ADM3_PCODE\"],1,inplace=True)\n",
    "ward_area.to_csv(join(proc_data_path,\"ward_area.csv\"),index=False)\n"
   ]
  },
  {
   "cell_type": "code",
   "execution_count": null,
   "metadata": {},
   "outputs": [],
   "source": [
    "ward_4[\"latitude\"]=ward_4.geometry.centroid.apply(lambda x: x.xy[1][0])\n",
    "ward_4[\"longitude\"]=ward_4.geometry.centroid.apply(lambda x: x.xy[0][0])\n",
    "ward_4[\"ward_4_points\"]=ward_4[[\"latitude\",\"longitude\"]].apply(lambda x: (x[\"latitude\"],x[\"longitude\"]),1).tolist()\n",
    "\n",
    "ward_3[\"latitude\"]=ward_3.geometry.centroid.apply(lambda x: x.xy[1][0])\n",
    "ward_3[\"longitude\"]=ward_3.geometry.centroid.apply(lambda x: x.xy[0][0])\n",
    "ward_3[\"ward_3_points\"]=ward_3[[\"latitude\",\"longitude\"]].apply(lambda x: (x[\"latitude\"],x[\"longitude\"]),1).tolist()\n",
    "\n",
    "ward_2[\"latitude\"]=ward_2.geometry.centroid.apply(lambda x: x.xy[1][0])\n",
    "ward_2[\"longitude\"]=ward_2.geometry.centroid.apply(lambda x: x.xy[0][0])\n",
    "ward_2[\"ward_2_points\"]=ward_2[[\"latitude\",\"longitude\"]].apply(lambda x: (x[\"latitude\"],x[\"longitude\"]),1).tolist()\n",
    "\n",
    "ward_1[\"latitude\"]=ward_1.geometry.centroid.apply(lambda x: x.xy[1][0])\n",
    "ward_1[\"longitude\"]=ward_1.geometry.centroid.apply(lambda x: x.xy[0][0])\n",
    "ward_1[\"ward_1_points\"]=ward_1[[\"latitude\",\"longitude\"]].apply(lambda x: (x[\"latitude\"],x[\"longitude\"]),1).tolist()\n"
   ]
  },
  {
   "cell_type": "code",
   "execution_count": null,
   "metadata": {},
   "outputs": [],
   "source": [
    "# word_4_points=word_4[[\"latitude\",\"longitude\"]].apply(lambda x: (x[\"latitude\"],x[\"longitude\"]),1).tolist()\n",
    "# word_4_cross_distance=cdist(word_4_points,word_4_points,metric=distance_m)\n",
    "# save_pickle(word_4_cross_distance,join(other_data_path,\"word_4_cross_distance.p\"))\n",
    "# word_4_cross_distance=read_pickle(join(other_data_path,\"word_4_cross_distance.p\"))\n",
    "# len(word_4_points)"
   ]
  },
  {
   "cell_type": "code",
   "execution_count": null,
   "metadata": {},
   "outputs": [],
   "source": [
    "# ward_3_points={ k:v for k,v in zip( ward_3.ADM3_PCODE ,ward_3.ward_3_points) }\n",
    "ward_4[\"distance_to_ADM3\"]=None\n",
    "for k , v  in zip( ward_3.ADM3_PCODE ,ward_3.ward_3_points) : \n",
    "    ward_4.loc[ward_4.ADM3_PCODE==k,\"distance_to_ADM3\"]=cdist([v], ward_4.loc[ward_4.ADM3_PCODE==k,\"ward_4_points\"].tolist(),metric=distance_m)[0]\n"
   ]
  },
  {
   "cell_type": "code",
   "execution_count": null,
   "metadata": {},
   "outputs": [],
   "source": [
    "ward_4[\"distance_to_ADM2\"]=None\n",
    "for k , v  in zip( ward_2.ADM2_PCODE ,ward_2.ward_2_points) : \n",
    "    ward_4.loc[ward_4.ADM2_PCODE==k,\"distance_to_ADM2\"]=cdist([v], ward_4.loc[ward_4.ADM2_PCODE==k,\"ward_4_points\"].tolist(),metric=distance_m)[0]"
   ]
  },
  {
   "cell_type": "code",
   "execution_count": null,
   "metadata": {},
   "outputs": [],
   "source": [
    "ward_4[\"distance_to_ADM1\"]=None\n",
    "for k , v  in zip( ward_1.ADM1_PCODE ,ward_1.ward_1_points) : \n",
    "    ward_4.loc[ward_4.ADM1_PCODE==k,\"distance_to_ADM1\"]=cdist([v], ward_4.loc[ward_4.ADM1_PCODE==k,\"ward_4_points\"].tolist(),metric=distance_m)[0]"
   ]
  },
  {
   "cell_type": "code",
   "execution_count": null,
   "metadata": {},
   "outputs": [],
   "source": [
    "word_4[[\"ADM4_PCODE\",\"distance_to_ADM1\",\"distance_to_ADM2\",\"distance_to_ADM3\"]].to_csv(join(proc_data_path,\"ADM_distance.csv\"),index=False)"
   ]
  }
 ],
 "metadata": {
  "kernelspec": {
   "display_name": "Python 3",
   "language": "python",
   "name": "python3"
  },
  "language_info": {
   "codemirror_mode": {
    "name": "ipython",
    "version": 3
   },
   "file_extension": ".py",
   "mimetype": "text/x-python",
   "name": "python",
   "nbconvert_exporter": "python",
   "pygments_lexer": "ipython3",
   "version": "3.6.8"
  }
 },
 "nbformat": 4,
 "nbformat_minor": 4
}
